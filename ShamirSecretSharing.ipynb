{
 "cells": [
  {
   "cell_type": "code",
   "execution_count": 1,
   "metadata": {},
   "outputs": [],
   "source": [
    "import random\n",
    "\n",
    "# Function that generates another function given a list of coefficient.\n",
    "# (also determining the polynomial's degree)\n",
    "# https://en.wikipedia.org/wiki/Shamir%27s_Secret_Sharing#Usage\n",
    "def generate_polynomial_fn(a_vars):\n",
    "  parts = []\n",
    "  for degree in range(len(a_vars)):\n",
    "    # closure on variable 'degree' using default parameter\n",
    "    def polynomial_part(x, d=degree):\n",
    "      return a_vars[d] * x**d\n",
    "    parts.append(polynomial_part)\n",
    "    \n",
    "  # Returns a lambda that sums all part of the polynomial for a given 'x'\n",
    "  return lambda x: sum(map(lambda f: f(x), parts))"
   ]
  },
  {
   "cell_type": "code",
   "execution_count": 2,
   "metadata": {},
   "outputs": [],
   "source": [
    "def shamir_split(m, n, secret):\n",
    "  # Choosing random numbers that are not too far away from our secret\n",
    "  rnds = [int(random.uniform(0.2, 0.8) * secret) for _ in range(m - 1)]\n",
    "  f = generate_polynomial_fn([secret] + rnds)\n",
    "  # returns the evaluation of the polynomial function for 0 < x < n+1\n",
    "  # WARNING: here x=0 would reveal the secret (f(0) == secret)\n",
    "  return [(x, f(x)) for x in range(1, n + 1)]"
   ]
  },
  {
   "cell_type": "code",
   "execution_count": 3,
   "metadata": {},
   "outputs": [],
   "source": [
    "from z3 import *\n",
    "\n",
    "# https://en.wikipedia.org/wiki/Shamir%27s_Secret_Sharing#Solution\n",
    "def shamir_resolve(splits):\n",
    "  degree = len(splits)\n",
    "  \n",
    "  # Z3 way of declaring unknown variables\n",
    "  a = [Int(f'a{i}') for i in range(0, degree)]\n",
    "  solver = Solver()\n",
    "  \n",
    "  # Create a simple system of equations from the splits\n",
    "  for x, y in splits:\n",
    "    p = generate_polynomial_fn(a)\n",
    "    solver.add(y == p(x))\n",
    "  \n",
    "  # This part is Z3 specific, we check and solve the system of equations\n",
    "  solver.check()\n",
    "  model = solver.model()\n",
    "  sec_int = model[a[0]].as_long()\n",
    "  \n",
    "  return sec_int"
   ]
  },
  {
   "cell_type": "code",
   "execution_count": 57,
   "metadata": {},
   "outputs": [],
   "source": [
    "secret =10"
   ]
  },
  {
   "cell_type": "code",
   "execution_count": 59,
   "metadata": {},
   "outputs": [
    {
     "name": "stdout",
     "output_type": "stream",
     "text": [
      "[(1, 13), (2, 16)]\n"
     ]
    }
   ],
   "source": [
    "m = 2 # number of parties needed to reconstruct secret\n",
    "n = 2 # total number of parties\n",
    "splits = shamir_split(m, n, secret)\n",
    "assert(len(splits) == n)\n",
    "print(splits)"
   ]
  },
  {
   "cell_type": "code",
   "execution_count": 30,
   "metadata": {},
   "outputs": [
    {
     "data": {
      "text/plain": [
       "4"
      ]
     },
     "execution_count": 30,
     "metadata": {},
     "output_type": "execute_result"
    }
   ],
   "source": [
    "# Picking arbitrarily a subset of the splits\n",
    "split_subset = splits[0:2]\n",
    "\n",
    "# Reconstruct the secret using only the splits (and the 'x' value)\n",
    "shamir_resolve(split_subset)"
   ]
  },
  {
   "cell_type": "code",
   "execution_count": 90,
   "metadata": {},
   "outputs": [],
   "source": [
    "a=[(1,171), (2,222)]"
   ]
  },
  {
   "cell_type": "code",
   "execution_count": 91,
   "metadata": {},
   "outputs": [
    {
     "data": {
      "text/plain": [
       "120"
      ]
     },
     "execution_count": 91,
     "metadata": {},
     "output_type": "execute_result"
    }
   ],
   "source": [
    "shamir_resolve(a)"
   ]
  },
  {
   "cell_type": "code",
   "execution_count": null,
   "metadata": {},
   "outputs": [],
   "source": []
  }
 ],
 "metadata": {
  "kernelspec": {
   "display_name": "Python 3",
   "language": "python",
   "name": "python3"
  },
  "language_info": {
   "codemirror_mode": {
    "name": "ipython",
    "version": 3
   },
   "file_extension": ".py",
   "mimetype": "text/x-python",
   "name": "python",
   "nbconvert_exporter": "python",
   "pygments_lexer": "ipython3",
   "version": "3.7.1"
  }
 },
 "nbformat": 4,
 "nbformat_minor": 2
}
