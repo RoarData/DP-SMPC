{
 "cells": [
  {
   "cell_type": "code",
   "execution_count": 1,
   "metadata": {},
   "outputs": [],
   "source": [
    "import pickle\n",
    "import numpy as np\n",
    "import pandas as pd\n",
    "import matplotlib.pyplot as plt\n",
    "import random\n",
    "import math"
   ]
  },
  {
   "cell_type": "code",
   "execution_count": 79,
   "metadata": {},
   "outputs": [],
   "source": [
    "def noise_gen(m,n):\n",
    "\n",
    "    data = pd.read_csv(\"logReg.csv\")  \n",
    "    X=data.iloc[:,:-1].values\n",
    "    Lambda=1\n",
    "    epsilon=100 # diff private loss parameter\n",
    "    scale = 2/( len(X) * Lambda * epsilon)\n",
    "    \n",
    "    t=[]\n",
    "    noiseS = [[t for i in range(n)] for j in range(n)]\n",
    "    nv=[]\n",
    "    noise = [[nv for i in range(n)] for j in range(n)]\n",
    "    for i in range(n):\n",
    "    \n",
    "        #generate random values for S trick\n",
    "        \n",
    "        for j in range(n):          \n",
    "            noiseS[i][j]=random.randint(1,10)\n",
    "            \n",
    "        from ipynb.fs.full.ShamirSecretSharing import shamir_split            \n",
    "        #generate DP noise vector (Gamma - Gamma) \n",
    "        \n",
    "        for j in range(n):\n",
    "            a=np.random.gamma(1/n,scale, 1)\n",
    "            b=np.random.gamma(1/n,scale, 1)\n",
    "            noise[i][j]= b-a\n",
    "            val=noise[i][j]+noiseS[i][j]\n",
    "            pickle.dump( val, open( \"noise\"+str(i)+str(j)+\".p\", \"wb\" ) )\n",
    "            \n",
    "      #  for i in range(n):\n",
    "        for j in range(n):\n",
    "                l = shamir_split(m,n,noiseS[i][j])\n",
    "                for k in range(n):\n",
    "                     pickle.dump( l[k][1], open( \"t\"+str(i)+str(j)+str(k)+\".p\", \"wb\" ) ) \n",
    "                     \n",
    "    #for i in range(n):\n",
    "        for k in range(n):\n",
    "                sum=0\n",
    "                for j in range(n):\n",
    "                        sum-=pickle.load( open( \"t\"+str(i)+str(j)+str(k)+\".p\", \"rb\" ) )\n",
    "                pickle.dump( sum, open( \"s\"+str(i)+str(k)+\".p\", \"wb\" ) ) \n",
    "    \n",
    "    return noiseS\n",
    "\n",
    "def calculate(m, n, weight_i): # n - number of parties/clients , weight_i - ith weight\n",
    "    \n",
    "    data = pd.read_csv(\"logReg.csv\")  \n",
    "    X=data.iloc[:,:-1].values\n",
    "\n",
    "    \n",
    "    nv1=[]\n",
    "    noiseR = [[nv1 for i in range(n)] for j in range(n)]\n",
    "    \n",
    "    foo=[]\n",
    "    r = [[foo for i in range(n)] for j in range(n)]\n",
    "\n",
    "    noiseR=noise_gen(m,n) # all parties generate necesar\n",
    "    \n",
    "    # Parties calculate shares and DP noise and send it to others\n",
    "    for i in range(n):\n",
    "        x=weight_i \n",
    "        \n",
    "        w=[]      \n",
    "                          \n",
    "        for j in range(n): \n",
    "            \n",
    "            if(i==j):\n",
    "                for k in range(n):\n",
    "                    x+=pickle.load( open( \"noise\"+str(k)+str(i)+\".p\", \"rb\" ) )\n",
    "\n",
    "        from ipynb.fs.full.ShamirSecretSharing import shamir_split\n",
    "        init_weight=shamir_split(m,n,x.round()) # round here \n",
    "        w=np.arange(n)     \n",
    "  \n",
    "\n",
    "        for j in range(n):          \n",
    "            r[i][j]=random.randint(1,1000)\n",
    "                \n",
    "        for j in range(n):\n",
    "            w[j]=init_weight[j][1]\n",
    "            pickle.dump( w[j]+r[i][j], open( \"weight\"+str(i)+str(j)+\".p\", \"wb\" ) ) \n",
    " \n",
    "    \n",
    "\n",
    "    \n",
    "#----------------------------------------------------------------------------------------------------------------#\n",
    "\n",
    "    from ipynb.fs.full.ShamirSecretSharing import shamir_split\n",
    "    #Parties calculate their share to be sent to server    \n",
    "    \n",
    "    for i in range(n):\n",
    "        \n",
    "        sum=0 \n",
    "                \n",
    "        for j in range(n): \n",
    "                       \n",
    "            if(i==j):\n",
    "                for k in range(n):\n",
    "                    sum+=pickle.load( open( \"weight\"+str(k)+str(i)+\".p\", \"rb\" ) )\n",
    "                sum+=pickle.load( open( \"s\"+str(i)+str(j)+\".p\", \"rb\" ) ) # s is p in the algorithm\n",
    "                sum-=r[i][j]\n",
    "                pickle.dump( sum, open( \"ro\"+str(i)+str(j)+\".p\", \"wb\" ) )\n",
    "            else: \n",
    "                p=pickle.load( open( \"s\"+str(i)+str(j)+\".p\", \"rb\" ) )\n",
    "                pickle.dump( p -r[i][j] , open( \"ro\"+str(i)+str(j)+\".p\", \"wb\" ) ) \n",
    "        \n",
    "#----------------------------------------------------------------------------------------------------------------#    \n",
    "    #Server calculates weighted mean\n",
    "    \n",
    "    coeff=[]\n",
    "    for i in range(n):\n",
    "        sum=0 \n",
    "        for j in range(n):\n",
    "             sum += pickle.load( open( \"ro\"+str(j)+str(i)+\".p\", \"rb\" ) ) \n",
    "       # print(sum)\n",
    "        coeff.append((i,sum))\n",
    "    \n",
    "    \n",
    "    from ipynb.fs.full.ShamirSecretSharing import shamir_resolve\n",
    "    print(shamir_resolve(res)  )      \n",
    "\n",
    "    "
   ]
  },
  {
   "cell_type": "code",
   "execution_count": 3,
   "metadata": {},
   "outputs": [
    {
     "data": {
      "text/plain": [
       "array([1.44618453])"
      ]
     },
     "execution_count": 3,
     "metadata": {},
     "output_type": "execute_result"
    }
   ],
   "source": [
    "from ipynb.fs.full.LogisticRegression import logisticRegression\n",
    "x=logisticRegression()[1]\n",
    "x"
   ]
  },
  {
   "cell_type": "code",
   "execution_count": 80,
   "metadata": {},
   "outputs": [
    {
     "name": "stdout",
     "output_type": "stream",
     "text": [
      "15\n"
     ]
    }
   ],
   "source": [
    "calculate(2,3,5)\n",
    "from ipynb.fs.full.ShamirSecretSharing import shamir_resolve\n"
   ]
  }
 ],
 "metadata": {
  "kernelspec": {
   "display_name": "Python 3",
   "language": "python",
   "name": "python3"
  },
  "language_info": {
   "codemirror_mode": {
    "name": "ipython",
    "version": 3
   },
   "file_extension": ".py",
   "mimetype": "text/x-python",
   "name": "python",
   "nbconvert_exporter": "python",
   "pygments_lexer": "ipython3",
   "version": "3.7.1"
  }
 },
 "nbformat": 4,
 "nbformat_minor": 2
}
